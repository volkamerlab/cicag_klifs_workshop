{
 "cells": [
  {
   "cell_type": "markdown",
   "id": "f44512e5-baca-4449-8e3a-3e21cdb15b12",
   "metadata": {},
   "source": [
    "# RCS CICAG workshop &mdash; KLIFS: making kinase structures work\n",
    "\n",
    "- Kinase set: EGFR, ErbB2, SLK, BRAF?\n",
    "  - Show how to use KLIFS Swagger API directly to fetch — Albert is doing this\n",
    "  - Show how to use opencadd to fetch IFPs for kinase set\n",
    "- Kinase KLIFS IDs by kinase names \n",
    "- Structures by kinase KLIFS IDs – select max. 2 liganded structures per kinase\n",
    "- IFPs by structure KLIFS IDs\n",
    "  - Show how to use kissim to encode pockets\n",
    "- KiSSim fingerprints by structure KLIFS IDs\n",
    "  - Calculate IFP- and KiSSim-based similarity\n",
    "  - Show heatmap"
   ]
  },
  {
   "cell_type": "code",
   "execution_count": 1,
   "id": "abe8a012-ac9b-425c-9c88-9409ddfc307e",
   "metadata": {},
   "outputs": [],
   "source": [
    "try:\n",
    "    import google.colab\n",
    "    !pip install condacolab\n",
    "    import condacolab\n",
    "    condacolab.install()\n",
    "    !mamba install -yq kissim\n",
    "except ModuleNotFoundError:\n",
    "    pass"
   ]
  },
  {
   "cell_type": "markdown",
   "id": "9548a569-04dc-4602-8df1-7d12a8bcde20",
   "metadata": {},
   "source": [
    "## Generate a KLIFS Python client"
   ]
  },
  {
   "cell_type": "code",
   "execution_count": 2,
   "id": "867851ff-dd9e-4288-b0ef-796b34545cdc",
   "metadata": {},
   "outputs": [],
   "source": [
    "from bravado.client import SwaggerClient"
   ]
  },
  {
   "cell_type": "code",
   "execution_count": 3,
   "id": "9dc4e7c4-3242-4978-a5fa-cd1b165b6b1d",
   "metadata": {},
   "outputs": [],
   "source": [
    "KLIFS_API_DEFINITIONS = \"https://klifs.net/swagger/swagger.json\"\n",
    "KLIFS_CLIENT = SwaggerClient.from_url(KLIFS_API_DEFINITIONS, config={\"validate_responses\": False})"
   ]
  },
  {
   "cell_type": "code",
   "execution_count": 4,
   "id": "c930ecd9-ebf3-4e22-a706-e56d96068080",
   "metadata": {},
   "outputs": [
    {
     "name": "stdout",
     "output_type": "stream",
     "text": [
      "['AGC', 'CAMK', 'CK1', 'CMGC', 'Other', 'STE', 'TK', 'TKL']\n"
     ]
    }
   ],
   "source": [
    "kinase_groups = KLIFS_CLIENT.Information.get_kinase_groups().response().result\n",
    "print(kinase_groups)"
   ]
  },
  {
   "cell_type": "markdown",
   "id": "c7f62b08-8b1f-49d7-b4cf-f5a420dfaf5a",
   "metadata": {},
   "source": [
    "## OpenCADD-KLIFS"
   ]
  },
  {
   "cell_type": "code",
   "execution_count": 5,
   "id": "f2036a65-a72b-4f86-a419-eb70cbb86ac0",
   "metadata": {},
   "outputs": [],
   "source": [
    "from opencadd.databases.klifs import setup_remote\n",
    "\n",
    "session = setup_remote()"
   ]
  },
  {
   "cell_type": "code",
   "execution_count": 6,
   "id": "2eaea5c4-5f09-497c-9896-cf73f77db188",
   "metadata": {},
   "outputs": [],
   "source": [
    "kinase_klifs_id = 406"
   ]
  },
  {
   "cell_type": "code",
   "execution_count": 7,
   "id": "387fd839-1284-45ee-b258-574083554b21",
   "metadata": {},
   "outputs": [
    {
     "data": {
      "text/plain": [
       "484"
      ]
     },
     "execution_count": 7,
     "metadata": {},
     "output_type": "execute_result"
    }
   ],
   "source": [
    "structures = session.structures.by_kinase_klifs_id(kinase_klifs_id)\n",
    "len(structures)"
   ]
  },
  {
   "cell_type": "markdown",
   "id": "ee68317d-4cdd-41b9-bd39-b25a3138f367",
   "metadata": {},
   "source": [
    "## KiSSim"
   ]
  },
  {
   "cell_type": "code",
   "execution_count": 8,
   "id": "515d99c2-49b3-475b-baa0-49606d750962",
   "metadata": {},
   "outputs": [
    {
     "data": {
      "application/vnd.jupyter.widget-view+json": {
       "model_id": "8b0651848a9a43a6a9b98dc4504ec4c1",
       "version_major": 2,
       "version_minor": 0
      },
      "text/plain": []
     },
     "metadata": {},
     "output_type": "display_data"
    }
   ],
   "source": [
    "from kissim.api import encode"
   ]
  },
  {
   "cell_type": "code",
   "execution_count": 9,
   "id": "21e04b10-8bcd-4d6b-ace6-3010adf8e559",
   "metadata": {},
   "outputs": [],
   "source": [
    "structure_klifs_ids = [22, 222]"
   ]
  },
  {
   "cell_type": "code",
   "execution_count": 10,
   "id": "9dac2154-e8e9-44c4-98b2-2dd3d3438257",
   "metadata": {},
   "outputs": [
    {
     "data": {
      "text/plain": [
       "<kissim.encoding.fingerprint_generator.FingerprintGenerator at 0x7f9dd9c60a30>"
      ]
     },
     "execution_count": 10,
     "metadata": {},
     "output_type": "execute_result"
    }
   ],
   "source": [
    "kissim_fingerprints = encode(structure_klifs_ids, n_cores=1)\n",
    "kissim_fingerprints"
   ]
  }
 ],
 "metadata": {
  "kernelspec": {
   "display_name": "Python 3 (ipykernel)",
   "language": "python",
   "name": "python3"
  },
  "language_info": {
   "codemirror_mode": {
    "name": "ipython",
    "version": 3
   },
   "file_extension": ".py",
   "mimetype": "text/x-python",
   "name": "python",
   "nbconvert_exporter": "python",
   "pygments_lexer": "ipython3",
   "version": "3.8.13"
  }
 },
 "nbformat": 4,
 "nbformat_minor": 5
}
