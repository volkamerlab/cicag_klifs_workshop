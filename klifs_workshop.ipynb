{
 "cells": [
  {
   "cell_type": "markdown",
   "id": "f44512e5-baca-4449-8e3a-3e21cdb15b12",
   "metadata": {},
   "source": [
    "# RCS CICAG workshop &mdash; KLIFS: making kinase structures work"
   ]
  },
  {
   "cell_type": "code",
   "execution_count": null,
   "id": "abe8a012-ac9b-425c-9c88-9409ddfc307e",
   "metadata": {},
   "outputs": [],
   "source": [
    "!pip install condacolab\n",
    "import condacolab\n",
    "condacolab.install()"
   ]
  },
  {
   "cell_type": "code",
   "execution_count": null,
   "id": "efa98323-598e-4116-bc67-d8650feb432d",
   "metadata": {},
   "outputs": [],
   "source": [
    "!mamba install -yq kissim"
   ]
  }
 ],
 "metadata": {
  "kernelspec": {
   "display_name": "Python 3 (ipykernel)",
   "language": "python",
   "name": "python3"
  },
  "language_info": {
   "codemirror_mode": {
    "name": "ipython",
    "version": 3
   },
   "file_extension": ".py",
   "mimetype": "text/x-python",
   "name": "python",
   "nbconvert_exporter": "python",
   "pygments_lexer": "ipython3",
   "version": "3.9.12"
  }
 },
 "nbformat": 4,
 "nbformat_minor": 5
}
