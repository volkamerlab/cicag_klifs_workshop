{
 "cells": [
  {
   "cell_type": "markdown",
   "id": "f44512e5-baca-4449-8e3a-3e21cdb15b12",
   "metadata": {},
   "source": [
    "# RCS CICAG workshop &mdash; KLIFS: making kinase structures work"
   ]
  },
  {
   "cell_type": "markdown",
   "id": "b05322fd-2424-4715-9feb-3a4270474f95",
   "metadata": {},
   "source": [
    "## Aim of this notebook\n",
    "\n",
    "[KLIFS](https://klifs.net/) is a database for kinase-ligand interaction fingerprints and structures. In this notebook, we will use the programmatic access to this database ([KLIFS OpenAPI](https://klifs.net/swagger_v2/)) and the [OpenCADD-KLIFS](https://github.com/volkamerlab/opencadd) package to interact with its rich content. \n",
    "\n",
    "We will assess the similarity between a set of kinases based on interaction fingerprints (KLIFS IFP) and subpocket-based structural fingerprints (KiSSim fingerprint) - a short demo of [TeachOpenCADD's kinase similarity edition](https://projects.volkamerlab.org/teachopencadd/talktorials.html#kinase-similarity) which was set up in collaboration with Talia B. Kimber."
   ]
  },
  {
   "cell_type": "markdown",
   "id": "8077bf76-1224-4a91-855c-fb44935be386",
   "metadata": {
    "tags": []
   },
   "source": [
    "## References\n",
    "\n",
    "The notebook is a mix of the following [TeachOpenCADD](https://academic.oup.com/nar/advance-article/doi/10.1093/nar/gkac267/6582172) notebooks:\n",
    "- [T012 · Data acquisition from KLIFS](https://projects.volkamerlab.org/teachopencadd/talktorials/T012_query_klifs.html)\n",
    "- [T025 · Kinase similarity: Kinase pocket (KiSSim fingerprint)](https://projects.volkamerlab.org/teachopencadd/talktorials/T025_kinase_similarity_kissim.html)\n",
    "- [T026 · Kinase similarity: Interaction fingerprints](https://projects.volkamerlab.org/teachopencadd/talktorials/T026_kinase_similarity_ifp.html)\n",
    "- [T028 · Kinase similarity: Compare different perspectives](https://projects.volkamerlab.org/teachopencadd/talktorials/T028_kinase_similarity_compare_perspectives.html)"
   ]
  },
  {
   "cell_type": "markdown",
   "id": "c15ac787-975c-4e50-8088-896219c00619",
   "metadata": {
    "tags": []
   },
   "source": [
    "We are using the following open-source resources:\n",
    "- KLIFS database &mdash; a structural kinase database: [Website](https://klifs.net) and [paper](https://doi.org/10.1093/nar/gkaa895)\n",
    "- OpenCADD-KLIFS &mdash; a Python module to fetch KLIFS data: [Code](github.com/volkamerlab/opencadd) and [paper](https://joss.theoj.org/papers/10.21105/joss.03951) and [documentation](https://opencadd.readthedocs.io/)\n",
    "- KiSSim &mdash; a KLIFS-based kinase structural similarity fingerprint: [Code](github.com/volkamerlab/kissim) and [paper](https://pubs.acs.org/doi/abs/10.1021/acs.jcim.2c00050) and [documentation](https://kissim.readthedocs.io/)"
   ]
  },
  {
   "cell_type": "markdown",
   "id": "ba737f24-5326-47b8-9bb7-9496a88bd582",
   "metadata": {},
   "source": [
    "## Installation (Google Colab)"
   ]
  },
  {
   "cell_type": "code",
   "execution_count": 1,
   "id": "abe8a012-ac9b-425c-9c88-9409ddfc307e",
   "metadata": {},
   "outputs": [],
   "source": [
    "# If the notebook is run on Google Colab\n",
    "# install condacolab and kissim\n",
    "try:\n",
    "    import google.colab\n",
    "    !pip install condacolab\n",
    "    import condacolab\n",
    "    condacolab.install()\n",
    "    !mamba install -yq kissim\n",
    "except ModuleNotFoundError:\n",
    "    pass"
   ]
  },
  {
   "cell_type": "markdown",
   "id": "7960f07e-360a-4020-b92b-4ae6e12bedf2",
   "metadata": {},
   "source": [
    "## Imports"
   ]
  },
  {
   "cell_type": "code",
   "execution_count": 2,
   "id": "b0e4d3b8-1967-40bf-82e3-4c588485a513",
   "metadata": {},
   "outputs": [],
   "source": [
    "import numpy as np\n",
    "import pandas as pd\n",
    "import matplotlib.pyplot as plt\n",
    "import seaborn as sns"
   ]
  },
  {
   "cell_type": "markdown",
   "id": "feaba2fb-b644-4c41-b76c-66eb78ee16ab",
   "metadata": {},
   "source": [
    "## Define kinase set"
   ]
  },
  {
   "cell_type": "code",
   "execution_count": 3,
   "id": "a67dff14-8885-462a-bb04-4938edc917ef",
   "metadata": {},
   "outputs": [],
   "source": [
    "kinase_names = [\"EGFR\", \"ErbB2\", \"SLK\", \"p38a\", \"p110a\"]"
   ]
  },
  {
   "cell_type": "markdown",
   "id": "9548a569-04dc-4602-8df1-7d12a8bcde20",
   "metadata": {},
   "source": [
    "## Generate a KLIFS Python client (KLIFS OpenAPI)\n",
    "\n",
    "- The KLIFS database offers standardized URL schemes (__REST API__) to programmatically access resources that live on the KLIFS server.\n",
    "- KLIFS defines how these URL have to look like in its REST API scheme ([__OpenAPI specification__](https://swagger.io/docs/specification/about/), formerly __Swagger specification__). \n",
    "  - Take a look at how such a document looks like in case of KLIFS (it's a json file): https://klifs.net/swagger/swagger.json \n",
    "  - You can also explore the definitions via an interactive user interface (Swagger UI): http://klifs.net/swagger/\n",
    "- Libraries like `bravado` can be used to dynamically generate a Python client based on OpenAPI definitions. "
   ]
  },
  {
   "cell_type": "code",
   "execution_count": 4,
   "id": "867851ff-dd9e-4288-b0ef-796b34545cdc",
   "metadata": {},
   "outputs": [],
   "source": [
    "from bravado.client import SwaggerClient"
   ]
  },
  {
   "cell_type": "code",
   "execution_count": 5,
   "id": "9dc4e7c4-3242-4978-a5fa-cd1b165b6b1d",
   "metadata": {},
   "outputs": [],
   "source": [
    "KLIFS_API_DEFINITIONS = \"https://klifs.net/swagger/swagger.json\"\n",
    "KLIFS_CLIENT = SwaggerClient.from_url(\n",
    "    KLIFS_API_DEFINITIONS, config={\"validate_responses\": False}\n",
    ")"
   ]
  },
  {
   "cell_type": "code",
   "execution_count": null,
   "id": "266c005c-fea4-4513-9df2-744fc0fa8dc9",
   "metadata": {},
   "outputs": [],
   "source": [
    "KLIFS_CLIENT.Information.get_kinase_ID(\n",
    "    kinase_name=\"EGFR\", species=\"Human\"\n",
    ").response().result"
   ]
  },
  {
   "cell_type": "code",
   "execution_count": null,
   "id": "6cce74d0-ed6b-4197-9d82-d5b9fe126e00",
   "metadata": {},
   "outputs": [],
   "source": [
    "KLIFS_CLIENT.Structures.get_structures_pdb_list(\n",
    "    pdb_codes=[\"3w32\", \"3poz\"]\n",
    ").response().result"
   ]
  },
  {
   "cell_type": "markdown",
   "id": "6cabdcc4-c9d1-409f-969c-11cbe6360033",
   "metadata": {},
   "source": [
    "## Set up a remote KLIFS session with OpenCADD-KLIFS\n",
    "\n",
    "- `opencadd` is a Python library for structural cheminformatics.\n",
    "- The submodule `opencadd.databases.klifs` (OpenCADD-KLIFS) offers a standardized API to work with KLIFS data locally (KLIFS download) or remotely (KLIFS OpenAPI).\n",
    "- Most query results are returned in the form of standardized `pandas` DataFrames for quick and easy data manipulation.\n",
    "\n",
    "![OpenCADD-KLIFS](https://raw.githubusercontent.com/volkamerlab/opencadd/master/paper/opencadd_klifs_toc.png)"
   ]
  },
  {
   "cell_type": "code",
   "execution_count": null,
   "id": "f2036a65-a72b-4f86-a419-eb70cbb86ac0",
   "metadata": {},
   "outputs": [],
   "source": [
    "from opencadd.databases.klifs import setup_remote\n",
    "\n",
    "session = setup_remote()\n",
    "pd.set_option(\"display.max_columns\", None)"
   ]
  },
  {
   "cell_type": "markdown",
   "id": "212eb39f-4450-416d-81e1-3966cbf66303",
   "metadata": {},
   "source": [
    "## Get kinase KLIFS IDs from kinase names"
   ]
  },
  {
   "cell_type": "code",
   "execution_count": null,
   "id": "73d50cf1-9b6f-42d8-98e7-6ca0c9ca04f0",
   "metadata": {},
   "outputs": [],
   "source": [
    "kinases = session.kinases.by_kinase_name(\n",
    "    kinase_names=kinase_names, species=\"Human\"\n",
    ")\n",
    "kinases"
   ]
  },
  {
   "cell_type": "code",
   "execution_count": null,
   "id": "d017ede5-d284-4dbb-8bd9-d3ad46ef23f9",
   "metadata": {},
   "outputs": [],
   "source": [
    "kinase_klifs_ids = kinases[\"kinase.klifs_id\"].to_list()\n",
    "print(\"Kinase KLIFS IDs:\", *kinase_klifs_ids)"
   ]
  },
  {
   "cell_type": "markdown",
   "id": "64b5a299-119d-4eb8-a42d-1d0e04428120",
   "metadata": {},
   "source": [
    "## Define structure set\n",
    "\n",
    "Fetch and filter structures that represent our kinase set."
   ]
  },
  {
   "cell_type": "markdown",
   "id": "ab83a309-b257-4995-9b3b-99725305d1c8",
   "metadata": {},
   "source": [
    "### Fetch structures for kinase set"
   ]
  },
  {
   "cell_type": "code",
   "execution_count": null,
   "id": "e1ee6416-1dad-4c87-b5b5-6db374c61e05",
   "metadata": {},
   "outputs": [],
   "source": [
    "print(\"Kinase names:\", *kinase_names)"
   ]
  },
  {
   "cell_type": "code",
   "execution_count": null,
   "id": "ecc7d5bf-f0af-47aa-82da-b7124048a375",
   "metadata": {},
   "outputs": [],
   "source": [
    "structures_df = session.structures.by_kinase_name(kinase_names=kinase_names)\n",
    "structures_df = structures_df.drop(\"interaction.fingerprint\", axis=1)\n",
    "print(f\"Number of structures: {len(structures_df)}\")\n",
    "print(\"Kinases:\", *structures_df[\"kinase.klifs_name\"].unique())"
   ]
  },
  {
   "cell_type": "markdown",
   "id": "75b15be0-b40a-4dbd-abf0-3132a766337d",
   "metadata": {},
   "source": [
    "Let’s have a look at what is stored in the structures’ DataFrame:"
   ]
  },
  {
   "cell_type": "code",
   "execution_count": null,
   "id": "61a67149-026f-4688-b493-0bb12e337268",
   "metadata": {},
   "outputs": [],
   "source": [
    "structures_df.head()"
   ]
  },
  {
   "cell_type": "markdown",
   "id": "c348e998-2f81-411f-9d50-e557ab44fc94",
   "metadata": {},
   "source": [
    "### Filter structures\n",
    "\n",
    "We filter the structures by different criteria:\n",
    "\n",
    "- Species: human\n",
    "- Conformation: DFG-in (the active kinase conformation)\n",
    "- Resolution: $\\le 3$ Angström\n",
    "- Quality score*: $\\ge 6$\n",
    "- Ligand-bound (ligand KLIFS ID cannot be $0$)\n",
    "\n",
    "\\* The KLIFS quality score takes into account the quality of the alignment, as well as the number of missing residues and atoms. A higher score indicates a better structure quality."
   ]
  },
  {
   "cell_type": "code",
   "execution_count": null,
   "id": "387fd839-1284-45ee-b258-574083554b21",
   "metadata": {},
   "outputs": [],
   "source": [
    "structures_df = structures_df[\n",
    "    (structures_df[\"species.klifs\"] == \"Human\")\n",
    "    & (structures_df[\"structure.dfg\"] == \"in\")\n",
    "    & (structures_df[\"structure.resolution\"] <= 3)\n",
    "    & (structures_df[\"structure.qualityscore\"] >= 6)\n",
    "    & (structures_df[\"ligand.klifs_id\"] != 0)\n",
    "]\n",
    "print(f\"Number of structures: {len(structures_df)}\")\n",
    "print(\"Kinases:\", *structures_df[\"kinase.klifs_name\"].unique())"
   ]
  },
  {
   "cell_type": "code",
   "execution_count": null,
   "id": "828b4e27-7779-49dc-a9e0-dd9f62124127",
   "metadata": {},
   "outputs": [],
   "source": [
    "structures_df.groupby(\"kinase.klifs_name\").size().sort_values(ascending=False)"
   ]
  },
  {
   "cell_type": "markdown",
   "id": "e084ef02-9936-4736-abe2-db290b39742a",
   "metadata": {},
   "source": [
    "Usually, we would use all structures for our kinase assessment; to save some computing time in this demo, we will reduce the number of structures per kinase."
   ]
  },
  {
   "cell_type": "code",
   "execution_count": null,
   "id": "6dfdf20e-88be-4140-b8f6-4f98544273d4",
   "metadata": {},
   "outputs": [],
   "source": [
    "n_structures_per_kinase = 3"
   ]
  },
  {
   "cell_type": "code",
   "execution_count": null,
   "id": "fcb00fc4-12b6-4674-b719-0c76f811cd12",
   "metadata": {},
   "outputs": [],
   "source": [
    "# Sort structures by kinase and quality\n",
    "structures_df = structures_df.sort_values(\n",
    "    by=[\"kinase.klifs_name\", \"structure.resolution\", \"structure.qualityscore\"],\n",
    "    ascending=[True, True, False],\n",
    ")\n",
    "# Reduce number of structures per kinase\n",
    "# If you want to use the full structure set, \n",
    "# please use the next filtering step\n",
    "structures_df = structures_df.groupby(\n",
    "    \"kinase.klifs_name\"\n",
    ").head(n_structures_per_kinase)\n",
    "\n",
    "structures_df.groupby(\"kinase.klifs_name\").size()"
   ]
  },
  {
   "cell_type": "code",
   "execution_count": null,
   "id": "85eb916a-d536-4fbf-9793-b20dfd02ecb8",
   "metadata": {},
   "outputs": [],
   "source": [
    "structure_klifs_ids = structures_df[\"structure.klifs_id\"].to_list()\n",
    "structure_klifs_ids = [int(i) for i in structure_klifs_ids]\n",
    "print(\"Structure KLIFS IDs:\", *structure_klifs_ids)"
   ]
  },
  {
   "cell_type": "markdown",
   "id": "d12197c5-1745-4307-8fb6-4aeb18a28a5d",
   "metadata": {},
   "source": [
    "## Kinase similarity: KLIFS IFPs"
   ]
  },
  {
   "cell_type": "markdown",
   "id": "d51dfb93-fe9d-4931-91a1-d392a711d456",
   "metadata": {},
   "source": [
    "### Encode structures: Get KLIFS IFPs"
   ]
  },
  {
   "cell_type": "markdown",
   "id": "a9ed0c9d-5b8a-4979-94cb-bfdc5cb14456",
   "metadata": {},
   "source": [
    "- KLIFS IFP: For each kinase structure that is co-crystallized with a ligand, all interactions between the $85$ KLIFS pocket residues and the ligand are described using the IFP by Marcou and Rognan ([<i>JCIM</i> (2007), <b>71(1)</b>, 195-207](https://pubs.acs.org/doi/10.1021/ci600342e)).\n",
    "- The presence of a certain type of interaction (7 in total) results in the type-setting of a “1” in the bit-string; otherwise a “0” is used to indicate the absence of the interaction. \n",
    "- This results in a $85 \\times 7 = 595$ bit vector. Since the binding site is aligned across all kinases, each bit position in this IFP can be directly compared across all IFPs in KLIFS. This is what we will do in the practical part of this tutorial.\n",
    "\n",
    "![KLIFS IFP](https://raw.githubusercontent.com/volkamerlab/teachopencadd/master/teachopencadd/talktorials/T026_kinase_similarity_ifp/images/T026_KLIFS_IFP.png)\n",
    "\n",
    "hydrophobic contact (HYD); face to face aromatic interactions (F−F); face to edge aromatic interactions (F−E); protein H-bond donor (DON); protein H- bond acceptor (ACC); protein cationic interactions (ION+), protein anionic interactions (ION−)"
   ]
  },
  {
   "cell_type": "code",
   "execution_count": null,
   "id": "003efc40-4aa6-4c12-a52e-b0217af9df4f",
   "metadata": {},
   "outputs": [],
   "source": [
    "ifps_df = session.interactions.by_structure_klifs_id(\n",
    "    structure_klifs_ids=structure_klifs_ids\n",
    ")\n",
    "print(f\"Number of IFPs: {len(ifps_df)}\")\n",
    "ifps_df.head()"
   ]
  },
  {
   "cell_type": "code",
   "execution_count": null,
   "id": "06eb168c-9248-4bcc-9b6e-aedfd38d8581",
   "metadata": {},
   "outputs": [],
   "source": [
    "structures_with_ifps_df = ifps_df.merge(\n",
    "    structures_df, on=\"structure.klifs_id\", how=\"inner\"\n",
    ")\n",
    "print(f\"Number of IFPs: {len(structures_with_ifps_df)}\")\n",
    "structures_with_ifps_df.head()"
   ]
  },
  {
   "cell_type": "markdown",
   "id": "532f107c-5bc8-450c-9efc-9dea4e5c37fb",
   "metadata": {},
   "source": [
    "### Compare structures: KLIFS IFPs"
   ]
  },
  {
   "cell_type": "markdown",
   "id": "c7cf3b71-85c1-41c5-8f2f-376e1406d3ad",
   "metadata": {},
   "source": [
    "We will make a pairwise comparison of the structures' IFP using the Tanimoto/Jaccard distance as implemented in `sklearn.metrics.pairwise_distances`, which uses under the hood the method `scipy.spatial.distance`."
   ]
  },
  {
   "cell_type": "markdown",
   "id": "f810dac2-1fc8-483e-95f1-855f0a1ca850",
   "metadata": {
    "tags": []
   },
   "source": [
    "#### Prepare IFPs as `numpy` array\n",
    "\n",
    "KLIFS deposits the IFP as a string of 0's and 1's. We have to convert the IFPs to an array of boolean vectors (required by `scipy.spatial.distance` to be able to use the Jaccard distance). Each row in this array refers to one IFP, each columns to one of the IFP's features."
   ]
  },
  {
   "cell_type": "code",
   "execution_count": null,
   "id": "cb9e3b2b-0a55-4d28-86ed-065dd2579b2c",
   "metadata": {},
   "outputs": [],
   "source": [
    "# Format IFP data (structure KLIFS ID and kinase name set as index)\n",
    "ifp_series = structures_with_ifps_df.set_index(\n",
    "    [\"structure.klifs_id\", \"kinase.klifs_name\"]\n",
    ")[\"interaction.fingerprint\"]\n",
    "ifp_series.head()"
   ]
  },
  {
   "cell_type": "code",
   "execution_count": null,
   "id": "c1c4ae12-036f-4536-aa24-3870314256f7",
   "metadata": {},
   "outputs": [],
   "source": [
    "# Cast \"0\" and \"1\" to boolean False and True\n",
    "ifp_series = ifp_series.apply(lambda x: [True if i == \"1\" else False for i in x])\n",
    "ifp_series.head()"
   ]
  },
  {
   "cell_type": "code",
   "execution_count": null,
   "id": "c514cecc-eee9-437a-a40f-f0c46c19ba4b",
   "metadata": {},
   "outputs": [],
   "source": [
    "structure_klifs_id_per_structure = ifp_series.index.get_level_values(0)\n",
    "kinase_name_per_structure = ifp_series.index.get_level_values(1)\n",
    "kinase_name_per_structure"
   ]
  },
  {
   "cell_type": "code",
   "execution_count": null,
   "id": "092a2a58-c163-476e-b1f9-aa4265cd36c7",
   "metadata": {},
   "outputs": [],
   "source": [
    "# Convert to numpy array\n",
    "ifps_array = np.array(ifp_series.to_list())\n",
    "ifps_array"
   ]
  },
  {
   "cell_type": "markdown",
   "id": "b9929d99-4053-471b-bf7f-b322ee3e82aa",
   "metadata": {},
   "source": [
    "#### Calculate pairwise Jaccard distances\n",
    "\n",
    "The Jaccard distance, defined below, is often used in case of binary fingerprints: \n",
    "\n",
    "$$\n",
    "d_J(A,B) = 1 - J(A,B) = 1 - \\frac{\\mid A \\cap B \\mid}{\\mid A \\cup B \\mid}.\n",
    "$$"
   ]
  },
  {
   "cell_type": "code",
   "execution_count": null,
   "id": "d979ce6d-9234-453c-acc8-9f2ad1712358",
   "metadata": {},
   "outputs": [],
   "source": [
    "from sklearn.metrics import pairwise_distances\n",
    "\n",
    "structure_distance_matrix_array = pairwise_distances(ifps_array, metric=\"jaccard\")"
   ]
  },
  {
   "cell_type": "code",
   "execution_count": null,
   "id": "0ed6d908-db99-4d72-9f33-d0da84d3bce4",
   "metadata": {},
   "outputs": [],
   "source": [
    "# Create DataFrame with structure KLIFS IDs as index/columns\n",
    "structure_distance_matrix_df = pd.DataFrame(\n",
    "    structure_distance_matrix_array,\n",
    "    index=structure_klifs_id_per_structure,\n",
    "    columns=structure_klifs_id_per_structure,\n",
    ")\n",
    "print(f\"Structure distance matrix size: {structure_distance_matrix_df.shape}\")\n",
    "print(\"Show matrix subset:\")\n",
    "structure_distance_matrix_df.iloc[:5, :5]"
   ]
  },
  {
   "cell_type": "markdown",
   "id": "d24b8b7e-a4ab-4f8f-b64d-8d1231526350",
   "metadata": {
    "tags": []
   },
   "source": [
    "### Map structure to kinase distance matrix\n",
    "\n",
    "Note: So far we compared individual structures, but we want to compare kinases (which can be represented by several structures).\n",
    "\n",
    "First, as an intermediate step, we will create a structure distance matrix but &mdash; instead of labeling the data with structure KLIFS IDs &mdash; we use the corresponding kinase name."
   ]
  },
  {
   "cell_type": "code",
   "execution_count": null,
   "id": "d9383227-cb50-4d02-82f3-8b4477fd4c18",
   "metadata": {
    "tags": []
   },
   "outputs": [],
   "source": [
    "# Copy distance matrix to kinase matrix\n",
    "kinase_distance_matrix_df = structure_distance_matrix_df.copy()\n",
    "# Replace structure KLIFS IDs with the structures' kinase names\n",
    "kinase_distance_matrix_df.index = kinase_name_per_structure\n",
    "kinase_distance_matrix_df.columns = kinase_name_per_structure\n",
    "print(\"Show matrix subset:\")\n",
    "kinase_distance_matrix_df.iloc[:5, :5]"
   ]
  },
  {
   "cell_type": "markdown",
   "id": "326cabca-1b4b-489c-ad1d-70ed79a1ce31",
   "metadata": {},
   "source": [
    "In this talktorial, we will consider per kinase pair the two structures that show the most similar binding mode for their co-crystallized ligands. Hence, we select the structure pair with the minimum IFP distance as representative for a kinase pair."
   ]
  },
  {
   "cell_type": "code",
   "execution_count": null,
   "id": "640fdcc8-a691-4a2c-aed4-c9c5ffe471fa",
   "metadata": {},
   "outputs": [],
   "source": [
    "# We unstack the matrix (each pairwise comparison in a single row)\n",
    "# We group by kinase names (level=[0, 1] ensures that the order of the kinases is ignored)\n",
    "# We take the minimum value in each kinase pair group\n",
    "# We unstack the remaining data points\n",
    "kinase_distance_matrix_df = (\n",
    "    kinase_distance_matrix_df.unstack().groupby(level=[0, 1]).min().unstack(level=1)\n",
    ")\n",
    "kinase_distance_matrix_df.index.name = None\n",
    "kinase_distance_matrix_df.columns.name = None"
   ]
  },
  {
   "cell_type": "code",
   "execution_count": null,
   "id": "6f36683b-7e7d-41d6-be19-668967855b01",
   "metadata": {},
   "outputs": [],
   "source": [
    "print(\n",
    "    f\"Structure matrix of shape {structure_distance_matrix_df.shape} \"\n",
    "    f\"reduced to kinase matrix of shape {kinase_distance_matrix_df.shape}.\"\n",
    ")"
   ]
  },
  {
   "cell_type": "code",
   "execution_count": null,
   "id": "8798cd01-ab18-4bd5-a505-124f391cb6c4",
   "metadata": {},
   "outputs": [],
   "source": [
    "# Rename variable so that we can differentiate the IFP kinase distance matrix\n",
    "# from the KiSSIm kinase distance matrix that we generate later in this notebook\n",
    "ifp_kinase_distance_matrix_df = kinase_distance_matrix_df\n",
    "ifp_kinase_distance_matrix_df"
   ]
  },
  {
   "cell_type": "code",
   "execution_count": null,
   "id": "74384d8c-4899-4d1a-b764-41352b63f98e",
   "metadata": {},
   "outputs": [],
   "source": [
    "# Show matrix with background gradient\n",
    "cm = sns.light_palette(\"green\", as_cmap=True)\n",
    "ifp_kinase_distance_matrix_df.style.background_gradient(cmap=cm).format(\"{:.3f}\")"
   ]
  },
  {
   "cell_type": "markdown",
   "id": "392f60c9-1715-4ccc-9706-c330210b6440",
   "metadata": {},
   "source": [
    "## Kinase similarity: KiSSim fingerprints"
   ]
  },
  {
   "cell_type": "markdown",
   "id": "044ad56c-f09a-439f-a903-b295b4a557c9",
   "metadata": {},
   "source": [
    "### Encode structures: Get KiSSim fingerprints\n",
    "\n",
    "![KiSSim fingerprint](https://raw.githubusercontent.com/volkamerlab/kissim/main/docs/_static/kissim_toc.png)"
   ]
  },
  {
   "cell_type": "markdown",
   "id": "e4cd0d44-80d3-49c0-b9c4-9d01c068b600",
   "metadata": {},
   "source": [
    "#### Encoding"
   ]
  },
  {
   "cell_type": "code",
   "execution_count": null,
   "id": "728bfd90-c5a4-4125-9424-9d1c37452ad5",
   "metadata": {},
   "outputs": [],
   "source": [
    "from kissim.encoding import FingerprintGenerator"
   ]
  },
  {
   "cell_type": "code",
   "execution_count": null,
   "id": "6b75c13e-7dde-4868-acdd-84d5582c4876",
   "metadata": {},
   "outputs": [],
   "source": [
    "FingerprintGenerator.from_structure_klifs_ids?"
   ]
  },
  {
   "cell_type": "code",
   "execution_count": null,
   "id": "e8730c95-bcee-4b7f-8f32-13ea983e9770",
   "metadata": {},
   "outputs": [],
   "source": [
    "%%time\n",
    "fingerprint_generator = FingerprintGenerator.from_structure_klifs_ids(\n",
    "    structure_klifs_ids, n_cores=1\n",
    ")\n",
    "fingerprint_generator"
   ]
  },
  {
   "cell_type": "code",
   "execution_count": null,
   "id": "13ccbf13-b8da-45ee-a035-4ef214c719bb",
   "metadata": {},
   "outputs": [],
   "source": [
    "# Save fingerprints\n",
    "json_filepath = \"results/fingerprints.json\"\n",
    "fingerprint_generator.to_json(json_filepath)"
   ]
  },
  {
   "cell_type": "raw",
   "id": "b6cb5157-fbab-44a7-a253-72f42753f629",
   "metadata": {},
   "source": [
    "# Load fingerprints\n",
    "fingerprint_generator = FingerprintGenerator.from_json(json_filepath)"
   ]
  },
  {
   "cell_type": "code",
   "execution_count": null,
   "id": "c195dbae-b57a-45f8-936e-cf3a8c17eb08",
   "metadata": {},
   "outputs": [],
   "source": [
    "fingerprint_generator.data"
   ]
  },
  {
   "cell_type": "code",
   "execution_count": null,
   "id": "57c569c0-aacb-4440-9c9a-dde3ac082b83",
   "metadata": {},
   "outputs": [],
   "source": [
    "example_id1 = list(fingerprint_generator.data)[0]\n",
    "example_kinase1 = fingerprint_generator.data[example_id1].kinase_name\n",
    "example_id2 = list(fingerprint_generator.data)[-1]\n",
    "example_kinase2 = fingerprint_generator.data[example_id2].kinase_name\n",
    "print(f\"Example structure {example_id1} for kinase {example_kinase1}\")\n",
    "print(f\"Example structure {example_id2} for kinase {example_kinase2}\")"
   ]
  },
  {
   "cell_type": "code",
   "execution_count": null,
   "id": "28fe6ce6-ab91-4bdf-b769-e3eea2f42a41",
   "metadata": {},
   "outputs": [],
   "source": [
    "fp = fingerprint_generator.data[example_id1]\n",
    "fp"
   ]
  },
  {
   "cell_type": "code",
   "execution_count": null,
   "id": "4768ce6a-8201-43c7-b969-509f3f1ab8fb",
   "metadata": {},
   "outputs": [],
   "source": [
    "fp.physicochemical"
   ]
  },
  {
   "cell_type": "markdown",
   "id": "86f4455f-4d80-4aed-8eb4-c546c95a814b",
   "metadata": {},
   "source": [
    "#### Normalization"
   ]
  },
  {
   "cell_type": "code",
   "execution_count": null,
   "id": "ff2d56f9-b021-43a7-a234-f21ede35a163",
   "metadata": {},
   "outputs": [],
   "source": [
    "from kissim.encoding import FingerprintGeneratorNormalized"
   ]
  },
  {
   "cell_type": "code",
   "execution_count": null,
   "id": "08cc5bcd-0c0b-49d3-9fc2-5aec743b037e",
   "metadata": {},
   "outputs": [],
   "source": [
    "FingerprintGeneratorNormalized.from_fingerprint_generator?"
   ]
  },
  {
   "cell_type": "code",
   "execution_count": null,
   "id": "be5c3c45-7c2d-4c4c-aa0e-4b093a10a5a0",
   "metadata": {},
   "outputs": [],
   "source": [
    "%%time\n",
    "fingerprint_generator_normalized = FingerprintGeneratorNormalized.from_fingerprint_generator(\n",
    "    fingerprint_generator\n",
    ")\n",
    "fingerprint_generator_normalized"
   ]
  },
  {
   "cell_type": "code",
   "execution_count": null,
   "id": "adddfb7e-82b0-4ada-a25d-f2bc4361b457",
   "metadata": {},
   "outputs": [],
   "source": [
    "fingerprint_generator_normalized.data"
   ]
  },
  {
   "cell_type": "code",
   "execution_count": null,
   "id": "9bd359ad-029f-4f21-9c6c-125b5f327aec",
   "metadata": {},
   "outputs": [],
   "source": [
    "fingerprint_generator_normalized.data[example_id1].physicochemical"
   ]
  },
  {
   "cell_type": "markdown",
   "id": "66359573-360e-4762-a303-de4fbfae06fa",
   "metadata": {},
   "source": [
    "### Compare structures: KiSSim fingerprint"
   ]
  },
  {
   "cell_type": "code",
   "execution_count": null,
   "id": "91b91b8c-1386-4c46-ad96-56078ede9da6",
   "metadata": {},
   "outputs": [],
   "source": [
    "from kissim.comparison import FingerprintDistanceGenerator"
   ]
  },
  {
   "cell_type": "code",
   "execution_count": null,
   "id": "f0361df5-f68a-47bc-930a-dcf9f8bc20ad",
   "metadata": {},
   "outputs": [],
   "source": [
    "FingerprintDistanceGenerator.from_fingerprint_generator?"
   ]
  },
  {
   "cell_type": "code",
   "execution_count": null,
   "id": "a23d5cd0-4d35-4c0b-bada-cae513a8cc27",
   "metadata": {},
   "outputs": [],
   "source": [
    "%%time\n",
    "fingerprint_distance_generator = FingerprintDistanceGenerator.from_fingerprint_generator(\n",
    "    fingerprint_generator_normalized, n_cores=1\n",
    ")\n",
    "fingerprint_distance_generator"
   ]
  },
  {
   "cell_type": "code",
   "execution_count": null,
   "id": "faf74a02-d982-430d-8369-3d510c823f42",
   "metadata": {},
   "outputs": [],
   "source": [
    "fingerprint_distance_generator.data"
   ]
  },
  {
   "cell_type": "markdown",
   "id": "d6533379-c211-4d59-b6ee-91e77d3c7247",
   "metadata": {},
   "source": [
    "### Map structure to kinase distance matrix"
   ]
  },
  {
   "cell_type": "code",
   "execution_count": null,
   "id": "d701a6c3-49c0-481d-a4d4-7e8b5e1dfca7",
   "metadata": {},
   "outputs": [],
   "source": [
    "kissim_kinase_distance_matrix_df = fingerprint_distance_generator.kinase_distance_matrix()\n",
    "kissim_kinase_distance_matrix_df.index.name = None\n",
    "kissim_kinase_distance_matrix_df.columns.name = None\n",
    "kissim_kinase_distance_matrix_df"
   ]
  },
  {
   "cell_type": "code",
   "execution_count": null,
   "id": "63581623-e729-4636-9eb2-bb1502fe558f",
   "metadata": {},
   "outputs": [],
   "source": [
    "# Show matrix with background gradient\n",
    "cm = sns.light_palette(\"green\", as_cmap=True)\n",
    "kissim_kinase_distance_matrix_df.style.background_gradient(cmap=cm).format(\"{:.3f}\")"
   ]
  },
  {
   "cell_type": "code",
   "execution_count": null,
   "id": "cf4a3267-19b0-40d7-b600-6f69b30ab774",
   "metadata": {},
   "outputs": [],
   "source": [
    "from kissim.viewer import StructureViewer\n",
    "viewer1 = StructureViewer.from_structure_klifs_id(example_id1)"
   ]
  },
  {
   "cell_type": "code",
   "execution_count": null,
   "id": "ce6245e6-2062-48e1-a2c6-04705bde1edf",
   "metadata": {},
   "outputs": [],
   "source": [
    "viewer1.show()"
   ]
  },
  {
   "cell_type": "code",
   "execution_count": null,
   "id": "c74597af-df00-4cff-bf7c-f5181b8bf041",
   "metadata": {},
   "outputs": [],
   "source": [
    "from kissim.viewer import StructurePairViewer\n",
    "viewer2 = StructurePairViewer.from_structure_klifs_ids(example_id1, example_id2)"
   ]
  },
  {
   "cell_type": "code",
   "execution_count": null,
   "id": "d1c8f761-06f9-43ed-8128-81423d293763",
   "metadata": {},
   "outputs": [],
   "source": [
    "viewer2.show()"
   ]
  },
  {
   "cell_type": "markdown",
   "id": "3d889755-a665-4dc8-8bae-6c3d6535d9fd",
   "metadata": {},
   "source": [
    "## Compare IFP and KiSSim similarity"
   ]
  },
  {
   "cell_type": "code",
   "execution_count": null,
   "id": "d9b33300-3aae-44c1-b81d-146e023f9b9d",
   "metadata": {},
   "outputs": [],
   "source": [
    "from scipy.cluster import hierarchy\n",
    "from scipy.spatial import distance"
   ]
  },
  {
   "cell_type": "markdown",
   "id": "a3d5abae-38ef-479b-b1d1-5f7c56141226",
   "metadata": {},
   "source": [
    "Let's define two functions to plot a similarity heatmap and a dendrogram."
   ]
  },
  {
   "cell_type": "code",
   "execution_count": null,
   "id": "dde78dab-9ce1-4072-85fc-468f530e0ece",
   "metadata": {},
   "outputs": [],
   "source": [
    "def heatmap(score_df, ax=None, title=\"\"):\n",
    "    \"\"\"\n",
    "    Generate a heatmap from a matrix.\n",
    "\n",
    "    Parameters\n",
    "    ----------\n",
    "    score_df : pd.DataFrame\n",
    "        Distance or similarity score matrix.\n",
    "    ax : matplotlib.axes\n",
    "        Plot axis to use!\n",
    "    title : str\n",
    "        Plot title.\n",
    "    \"\"\"\n",
    "    sns.heatmap(score_df, linewidths=0, annot=True, square=True, cmap=\"viridis\", ax=ax)"
   ]
  },
  {
   "cell_type": "code",
   "execution_count": null,
   "id": "e366f989-cc70-40d0-937a-0fe68d9e670e",
   "metadata": {},
   "outputs": [],
   "source": [
    "def dendrogram(distance_matrix, ax=None, title=\"\"):\n",
    "    \"\"\"\n",
    "    Generate a dendrogram from a distance matrix.\n",
    "\n",
    "    Parameters\n",
    "    ----------\n",
    "    distance_matrix : pd.DataFrame\n",
    "        Distance matrix.\n",
    "    ax : matplotlib.axes\n",
    "        Plot axis to use!\n",
    "    title : str\n",
    "        Plot title.\n",
    "    \"\"\"\n",
    "    D = distance_matrix.values\n",
    "    D_condensed = distance.squareform(D)\n",
    "    hclust = hierarchy.linkage(D_condensed, method=\"average\")\n",
    "    tree = hierarchy.to_tree(hclust)\n",
    "    labels = distance_matrix.columns.to_list()\n",
    "    hierarchy.dendrogram(hclust, labels=labels, orientation=\"left\", ax=ax)\n",
    "    ax.set_title(title)\n",
    "    ax.set_xlabel(\"Distance\")"
   ]
  },
  {
   "cell_type": "markdown",
   "id": "bf08cf16-ac94-483c-9ed2-31a3c5f4126c",
   "metadata": {},
   "source": [
    "Define a dictionary containing different similarity measures (perspective) and the respective kinase distance matrices; in our case we look at the KLIFS IFP and KiSSim."
   ]
  },
  {
   "cell_type": "code",
   "execution_count": null,
   "id": "1c73207c-e090-49b8-a471-b0e41f4afde7",
   "metadata": {},
   "outputs": [],
   "source": [
    "kinase_distance_matrices_normalized = {\n",
    "    \"KLIFS IFP\": ifp_kinase_distance_matrix_df,\n",
    "    \"KiSSim\": kissim_kinase_distance_matrix_df,\n",
    "}"
   ]
  },
  {
   "cell_type": "code",
   "execution_count": null,
   "id": "05c4083d-bb6b-42ca-8dd2-3b1be2dc0416",
   "metadata": {},
   "outputs": [],
   "source": [
    "n_perspectives = len(kinase_distance_matrices_normalized)\n",
    "\n",
    "fig, axes = plt.subplots(2, n_perspectives, figsize=(n_perspectives * 5, 8))\n",
    "for i, (perspective, distance_matrix) in enumerate(kinase_distance_matrices_normalized.items()):\n",
    "    # Heatmap based on similarity matrix\n",
    "    similarity_matrix = 1 - distance_matrix\n",
    "    heatmap(similarity_matrix, ax=axes[0][i], title=perspective)\n",
    "    # Dendrogram based on distance matrix\n",
    "    dendrogram(distance_matrix, ax=axes[1][i], title=perspective)"
   ]
  },
  {
   "cell_type": "markdown",
   "id": "06c608c3-5a6f-434f-b4aa-7cce10f6ab54",
   "metadata": {},
   "source": [
    "Note for ease of interpretability, we show below:\n",
    "\n",
    "* Heatmaps based on the **similarity** matrix (the higher the value, the higher the similarity).\n",
    "* Dendrograms calculated based on the **distance** matrix, where clusters describe the similarity between kinases."
   ]
  },
  {
   "cell_type": "markdown",
   "id": "e502f4ba-dc6d-4f1e-b8a1-ae9c9b46ac21",
   "metadata": {},
   "source": [
    "## More kinase similarity assessments\n",
    "\n",
    "https://projects.volkamerlab.org/teachopencadd/talktorials.html#kinase-similarity"
   ]
  }
 ],
 "metadata": {
  "kernelspec": {
   "display_name": "Python 3 (ipykernel)",
   "language": "python",
   "name": "python3"
  },
  "language_info": {
   "codemirror_mode": {
    "name": "ipython",
    "version": 3
   },
   "file_extension": ".py",
   "mimetype": "text/x-python",
   "name": "python",
   "nbconvert_exporter": "python",
   "pygments_lexer": "ipython3",
   "version": "3.8.13"
  }
 },
 "nbformat": 4,
 "nbformat_minor": 5
}
